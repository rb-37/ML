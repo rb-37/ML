{
 "cells": [
  {
   "cell_type": "markdown",
   "metadata": {},
   "source": [
    "# Задача 1\n",
    "\n",
    "Дан текст, выполнить с ним следующие операции:\n",
    "* Вывести длину текста\n",
    "* Заменить буквы 'о' на буквы 'а'\n",
    "* Удалить слова 'не' и 'ни'"
   ]
  },
  {
   "cell_type": "code",
   "execution_count": 26,
   "metadata": {},
   "outputs": [],
   "source": [
    "quote = \"\"\"\n",
    "Будучи вне дома, держите себя так, словно принимаете почетных гостей.\n",
    "Пользуясь услугами людей, ведите себя так, словно свершаете торжественный обряд.\n",
    "Не делайте другим того, чего себе не пожелаете.\n",
    "Тогда ни в государстве, ни в семье не будет недовольства.\n",
    "\"\"\""
   ]
  },
  {
   "cell_type": "code",
   "execution_count": 29,
   "metadata": {},
   "outputs": [
    {
     "name": "stdout",
     "output_type": "stream",
     "text": [
      "258\n",
      "\n",
      "Будучи в дама, держите себя так, славна примаете пачетных гастей.\n",
      "Пальзуясь услугами людей, ведите себя так, славна свершаете таржественный абряд.\n",
      "Не делайте другим тага, чега себе  пажелаете.\n",
      "Тагда  в гасударстве,  в семье  будет давальства.\n",
      "\n"
     ]
    }
   ],
   "source": [
    "\n",
    "\n",
    "# Пишите свой код\n",
    "print(len(quote))\n",
    "quote = quote.replace('о', 'а')\n",
    "quote = quote.replace('не', '')\n",
    "quote = quote.replace('ни', '')\n",
    "print(quote)\n",
    "\n",
    "\n"
   ]
  },
  {
   "cell_type": "markdown",
   "metadata": {},
   "source": [
    "# Задача 2\n",
    "\n",
    "Сложные проценты - https://ru.onlinemschool.com/math/library/percent/percent10/\n",
    "\n",
    "Пользователь желает положить деньги под проценты на определенный срок. Банк каждый год начисляет 8% годовых. Вычислить полученную сумму в конце срока.\n",
    "\n",
    "Доп. задача, распишите прибыль за каждый год. (можно использовать циклы если знаете, но можно и без)\n",
    "\n",
    "Онлайн калькулятор, для проверки ответов: https://wpcalc.com/slozhnyj-procent/"
   ]
  },
  {
   "cell_type": "code",
   "execution_count": 33,
   "metadata": {},
   "outputs": [],
   "source": [
    "# сумма пользователя в рублях, которую он положит в банк\n",
    "source_amt = 412500\n",
    "\n",
    "# годовой процент\n",
    "annual_interest = 8\n",
    "\n",
    "# срок в 5 лет\n",
    "time = 5\n",
    "\n",
    "# в эту переменную нужно записать ответ\n",
    "result = -1"
   ]
  },
  {
   "cell_type": "code",
   "execution_count": 50,
   "metadata": {},
   "outputs": [
    {
     "name": "stdout",
     "output_type": "stream",
     "text": [
      "На конец 5 лет сумма на счету составит: 606097.8316800002\n",
      "-------------------------------------------\n",
      "На  1 год прибыль составит:  33000.00000000006\n",
      "На  2 год прибыль составит:  35640.0\n",
      "На  3 год прибыль составит:  38491.20000000001\n",
      "На  4 год прибыль составит:  41570.49600000004\n",
      "На  5 год прибыль составит:  44896.135680000065\n"
     ]
    }
   ],
   "source": [
    "# Пишите свой код\n",
    "result = source_amt*((1+annual_interest/100)**time)\n",
    "print('На конец 5 лет сумма на счету составит:', result)\n",
    "print('-------------------------------------------')\n",
    "n = range(1,6)\n",
    "for i in n:\n",
    "    yearX = source_amt*((1+annual_interest/100)**i)\n",
    "    print('На ', i, 'год прибыль составит: ', yearX - source_amt*((1+annual_interest/100)**(i-1)))\n",
    "    \n"
   ]
  }
 ],
 "metadata": {
  "kernelspec": {
   "display_name": "Python 3",
   "language": "python",
   "name": "python3"
  },
  "language_info": {
   "codemirror_mode": {
    "name": "ipython",
    "version": 3
   },
   "file_extension": ".py",
   "mimetype": "text/x-python",
   "name": "python",
   "nbconvert_exporter": "python",
   "pygments_lexer": "ipython3",
   "version": "3.7.3"
  }
 },
 "nbformat": 4,
 "nbformat_minor": 2
}
